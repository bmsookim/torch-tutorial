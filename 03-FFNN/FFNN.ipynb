{
 "cells": [
  {
   "cell_type": "markdown",
   "metadata": {},
   "source": [
    "# Feed Forward Neural Network\n",
    "\n",
    "In this chapter, we're going to do a simple exercise about feed forward neural network.\n",
    "\n",
    "Feed forward Neural network is a multi-layer network of linear combinations and non-linear activation functions.\n",
    "\n",
    "As FFNN contains both linear and non-linear aspects, it is expected to be able to learn any function possible."
   ]
  },
  {
   "cell_type": "code",
   "execution_count": null,
   "metadata": {
    "collapsed": true
   },
   "outputs": [],
   "source": [
    "$ luarocks install mnist"
   ]
  },
  {
   "cell_type": "markdown",
   "metadata": {},
   "source": [
    "# MNIST dataset\n",
    "\n",
    "MNIST is a handwritten digits database, which contains 10 classes of handwritten digits of 0~9.\n",
    "\n",
    "It is a very popular dataset for those who are first studying machine learning or deep learning algorithms.\n",
    "\n",
    "It contains of 60000 training dataset and 10000 test dataset.\n",
    "\n",
    "Each label contains 6000 images of handwritten digits, which is in\n",
    "\n",
    "grayscale image(which means that unlike normal color image which has \n",
    "\n",
    "3 values of channels R, G, B, this dataset consists of only one layer\n",
    "\n",
    "that represents saturation.)"
   ]
  },
  {
   "cell_type": "code",
   "execution_count": 1,
   "metadata": {
    "collapsed": false
   },
   "outputs": [],
   "source": [
    "require 'torch'\n",
    "require 'nn'\n",
    "require 'optim'\n",
    "mnist = require 'mnist'"
   ]
  },
  {
   "cell_type": "code",
   "execution_count": 2,
   "metadata": {
    "collapsed": false
   },
   "outputs": [
    {
     "data": {
      "text/plain": [
       "=============================================\t"
      ]
     },
     "execution_count": 2,
     "metadata": {},
     "output_type": "execute_result"
    },
    {
     "data": {
      "text/plain": [
       "\n",
       "=> Loading MNIST dataset...\t\n",
       "=============================================\t\n"
      ]
     },
     "execution_count": 2,
     "metadata": {},
     "output_type": "execute_result"
    }
   ],
   "source": [
    "print '============================================='\n",
    "print '=> Loading MNIST dataset...'\n",
    "print '============================================='\n",
    "\n",
    "trainData = mnist.traindataset()\n",
    "testData = mnist.testdataset()"
   ]
  },
  {
   "cell_type": "code",
   "execution_count": 3,
   "metadata": {
    "collapsed": false
   },
   "outputs": [
    {
     "data": {
      "text/plain": [
       "=============================================\t\n",
       "=> Checking Data...\t\n",
       "=============================================\n",
       "\t\n",
       "Training Set : \t\n",
       "{\n",
       "  data : ByteTensor - size: 60000x28x28\n",
       "  size : 60000\n",
       "  label : ByteTensor - size: 60000\n",
       "}\n",
       "\n",
       "Training Label : \t\n",
       " 60000\n",
       "[torch.LongStorage of size 1]\n",
       "\n",
       "Test Set : \t\n",
       "{\n",
       "  data : ByteTensor - size: 10000x28x28\n",
       "  size : 10000\n",
       "  label : ByteTensor - size: 10000\n",
       "}\n",
       "Test Label : \t\n",
       " 10000\n",
       "[torch.LongStorage of size 1]\n",
       "\n"
      ]
     },
     "execution_count": 3,
     "metadata": {},
     "output_type": "execute_result"
    }
   ],
   "source": [
    "-- checking ouy\n",
    "print '============================================='\n",
    "print(\"=> Checking Data...\")\n",
    "print '=============================================\\n'\n",
    "print(\"Training Set : \")\n",
    "print(trainData)\n",
    "print()\n",
    "print(\"Training Label : \")\n",
    "print(trainData.label:size())\n",
    "print(\"Test Set : \")\n",
    "print(testData)\n",
    "print(\"Test Label : \")\n",
    "print(testData.label:size())"
   ]
  },
  {
   "cell_type": "code",
   "execution_count": 4,
   "metadata": {
    "collapsed": false
   },
   "outputs": [
    {
     "data": {
      "text/plain": [
       "=============================================\t\n",
       "=> Visualizing Data...\t\n",
       "=============================================\n",
       "\t\n",
       "Training data : \t\n"
      ]
     },
     "execution_count": 4,
     "metadata": {},
     "output_type": "execute_result"
    },
    {
     "data": {
      "text/plain": [
       "Test data : \t\n"
      ]
     },
     "execution_count": 4,
     "metadata": {},
     "output_type": "execute_result"
    },
    {
     "data": {
      "image/png": "[encoded data removed]",
      "text/plain": [
       "Console does not support images"
      ]
     },
     "metadata": {
      "image/png": {
       "height": 120,
       "width": 180
      }
     },
     "output_type": "display_data"
    },
    {
     "data": {
      "image/png": "[encoded data removed]",
      "text/plain": [
       "Console does not support images"
      ]
     },
     "metadata": {
      "image/png": {
       "height": 120,
       "width": 180
      }
     },
     "output_type": "display_data"
    }
   ],
   "source": [
    "print '============================================='\n",
    "print('=> Visualizing Data...')\n",
    "print '=============================================\\n'\n",
    "\n",
    "if itorch then\n",
    "    print('Training data : ')\n",
    "    itorch.image(trainData.data[{ {1,24} }])\n",
    "    print('Test data : ')\n",
    "    itorch.image(testData.data[{ {1,24} }])\n",
    "end"
   ]
  },
  {
   "cell_type": "markdown",
   "metadata": {},
   "source": [
    "# Model definition\n",
    "\n",
    "We will use a model with 2 hidden layers, using sigmoid activation,\n",
    "\n",
    "and add a single softmax layer on the output.\n",
    "\n",
    "As an input, we will spread out the (28, 28) image into a single row with 784(=28*28) nodules."
   ]
  },
  {
   "cell_type": "code",
   "execution_count": 5,
   "metadata": {
    "collapsed": true
   },
   "outputs": [],
   "source": [
    "model = nn.Sequential()\n",
    "model:add(nn.Reshape(28*28))\n",
    "model:add(nn.Linear(28*28, 30))\n",
    "model:add(nn.Sigmoid())\n",
    "model:add(nn.Linear(30, 30))\n",
    "model:add(nn.Sigmoid())\n",
    "model:add(nn.Linear(30, 10)) -- As the classifier has 10 classes\n",
    "model:add(nn.LogSoftMax())"
   ]
  },
  {
   "cell_type": "markdown",
   "metadata": {},
   "source": [
    "# Criterion definition\n",
    "\n",
    "Torch provides various criterions enabling the user to train various models with various methods.\n",
    "\n",
    "In this section, we will use the ClassNLLCriterion.\n",
    "\n",
    "The NLL criterion needs the output to be in a log-probability format in order to calculate the loss and update the weights."
   ]
  },
  {
   "cell_type": "code",
   "execution_count": 6,
   "metadata": {
    "collapsed": true
   },
   "outputs": [],
   "source": [
    "criterion = nn.ClassNLLCriterion()"
   ]
  },
  {
   "cell_type": "markdown",
   "metadata": {},
   "source": [
    "# GPU function\n",
    "\n",
    "The below codes enables the model to train on the GPU you own.\n",
    "\n",
    "You must have already completed the GPU settings in order to \n",
    "\n",
    "train by this option."
   ]
  },
  {
   "cell_type": "code",
   "execution_count": 7,
   "metadata": {
    "collapsed": false
   },
   "outputs": [],
   "source": [
    "require 'cutorch'\n",
    "require 'cudnn'\n",
    "require 'cunn'\n",
    "\n",
    "GPU_flag = false\n",
    "\n",
    "if GPU_flag then\n",
    "    model:cuda()\n",
    "    criterion:cuda()\n",
    "else\n",
    "    model:double()\n",
    "    criterion:double()\n",
    "end"
   ]
  },
  {
   "cell_type": "markdown",
   "metadata": {},
   "source": [
    "# Optimizer Definition\n",
    "\n",
    "There are various descent algorithms other than SGD(Stochastic Gradient Descent), but we will continue to use SGD as our default optimizer."
   ]
  },
  {
   "cell_type": "code",
   "execution_count": 8,
   "metadata": {
    "collapsed": true
   },
   "outputs": [],
   "source": [
    "sgd_params = {\n",
    "   learningRate = 1e-2,\n",
    "   learningRateDecay = 1e-4,\n",
    "   weightDecay = 1e-3,\n",
    "   momentum = 0.05\n",
    "}"
   ]
  },
  {
   "cell_type": "code",
   "execution_count": 9,
   "metadata": {
    "collapsed": true
   },
   "outputs": [],
   "source": [
    "x, dl_dx = model:getParameters()"
   ]
  },
  {
   "cell_type": "markdown",
   "metadata": {},
   "source": [
    "# Mini-batch SGD\n",
    "\n",
    "In contrast to the chapters before, from now on we're going to adapt mini-batch SGD.\n",
    "\n",
    "Gradient Descent performs best when it's batch equals it's training size, but for many reasons and for many cases, that simply isn't possible.\n",
    "\n",
    "So, as a median offer for Gradient Descent(Batch size = training size) and Stochastic Gradient Descent(Batch size = 1), mini-batch SGD takes a fixed amount of batches into its input.\n",
    "\n",
    "It results in much faster and much efficient training than Stochastic Gradient Descent, with consuming much less memory than Full-batch Gradient Descent."
   ]
  },
  {
   "cell_type": "code",
   "execution_count": 10,
   "metadata": {
    "collapsed": false
   },
   "outputs": [],
   "source": [
    "-- Mini-batch SGD function\n",
    "mini_batch_upload = function(GPU_flag, batch_size)\n",
    "    local current_loss = 0\n",
    "    local count = 0\n",
    "    local shuffle = torch.randperm(trainData.size)\n",
    "    batch_size = batch_size or 128\n",
    "    \n",
    "    for t = 1,trainData.size,batch_size do\n",
    "        -- setup inputs and targets for this mini-batch\n",
    "        local size = math.min(t + batch_size - 1, trainData.size) - t\n",
    "        if GPU_flag then\n",
    "            inputs = torch.Tensor(size, 28, 28):cuda()\n",
    "        else\n",
    "            inputs = torch.Tensor(size, 28, 28)\n",
    "        end\n",
    "        \n",
    "        -- definition of target data\n",
    "        local targets = torch.Tensor(size)\n",
    "        \n",
    "        -- Batch iteration\n",
    "        for i = 1,size do\n",
    "            local input = trainData.data[shuffle[i+t]]\n",
    "            if GPU_flag then\n",
    "                input:cuda()\n",
    "            end\n",
    "            local target = trainData.label[shuffle[i+t]]\n",
    "            -- if target == 0 then target = 10 end\n",
    "            inputs[i] = input\n",
    "            targets[i] = target\n",
    "        end\n",
    "        targets:add(1)\n",
    "        \n",
    "        local feval = function(x_new)\n",
    "            -- reset data\n",
    "            if x ~= x_new then x:copy(x_new) end\n",
    "            dl_dx:zero()\n",
    "\n",
    "            -- perform mini-batch gradient descent\n",
    "            local loss = criterion:forward(model:forward(inputs), targets)\n",
    "            model:backward(inputs, criterion:backward(model.output, targets))\n",
    "\n",
    "            return loss, dl_dx\n",
    "        end\n",
    "        \n",
    "        _, fs = optim.sgd(feval, x, sgd_params)\n",
    "        -- fs is a table containing value of the loss function\n",
    "        -- (just 1 value for the SGD optimization)\n",
    "        count = count + 1\n",
    "        current_loss = current_loss + fs[1]\n",
    "    end\n",
    "\n",
    "    -- normalize loss\n",
    "    return current_loss / count\n",
    "end"
   ]
  },
  {
   "cell_type": "markdown",
   "metadata": {},
   "source": [
    "# Testing Dataset\n",
    "\n",
    "For evaluating accuracy on the validation dataset.\n",
    "\n",
    "Validation dataset is needed to check if whether the training is being successful and also checking if there is no overfitting or underfitting taking place.\n",
    "\n",
    "Simple sign of overfitting is training loss being much lesser than the validation loss, while sign of underfitting will be training loss not decreasing from a certain point."
   ]
  },
  {
   "cell_type": "code",
   "execution_count": 11,
   "metadata": {
    "collapsed": true
   },
   "outputs": [],
   "source": [
    "eval = function(dataset, GPU_flag, batch_size)\n",
    "    local count = 0\n",
    "    batch_size = batch_size or 128\n",
    "    \n",
    "    for i = 1,dataset.size,batch_size do\n",
    "        local size = math.min(i + batch_size - 1, dataset.size) - i\n",
    "        -- Important\n",
    "        -- The arguement set only accepts Double Tensor as an input!\n",
    "        if GPU_flag then\n",
    "            inputs = dataset.data[{{i,i+size-1}}]:cuda()\n",
    "        else\n",
    "            inputs = dataset.data[{{i,i+size-1}}]:double()\n",
    "        end\n",
    "        \n",
    "        -- definition of target label\n",
    "        if GPU_flag then \n",
    "            local tmp = dataset.label[{{i,i+size-1}}]:long()\n",
    "            targets = torch.CudaLongTensor()\n",
    "            targets:resize(tmp:size()):copy(tmp)\n",
    "        else\n",
    "            targets = dataset.label[{{i,i+size-1}}]:long()\n",
    "        end\n",
    "        \n",
    "        -- feed forward neural network\n",
    "        local outputs = model:forward(inputs)\n",
    "        local _, indices = torch.max(outputs, 2)\n",
    "        indices:add(-1)\n",
    "        local guessed_right = indices:eq(targets):sum()\n",
    "        count = count + guessed_right\n",
    "    end\n",
    "\n",
    "    return count / dataset.size\n",
    "end"
   ]
  },
  {
   "cell_type": "markdown",
   "metadata": {},
   "source": [
    "# Training the model\n",
    "\n",
    "Now on, we will start to train the model."
   ]
  },
  {
   "cell_type": "code",
   "execution_count": 12,
   "metadata": {
    "collapsed": false
   },
   "outputs": [
    {
     "data": {
      "text/plain": [
       "Epoch #1 : Loss = 2.233233\t\n"
      ]
     },
     "execution_count": 12,
     "metadata": {},
     "output_type": "execute_result"
    },
    {
     "data": {
      "text/plain": [
       "Test accuracy : 36.450000%\t\n"
      ]
     },
     "execution_count": 12,
     "metadata": {},
     "output_type": "execute_result"
    },
    {
     "data": {
      "text/plain": [
       "Epoch #2 : Loss = 2.107554\t\n"
      ]
     },
     "execution_count": 12,
     "metadata": {},
     "output_type": "execute_result"
    },
    {
     "data": {
      "text/plain": [
       "Test accuracy : 61.040000%\t\n"
      ]
     },
     "execution_count": 12,
     "metadata": {},
     "output_type": "execute_result"
    },
    {
     "data": {
      "text/plain": [
       "Epoch #3 : Loss = 1.961850\t\n"
      ]
     },
     "execution_count": 12,
     "metadata": {},
     "output_type": "execute_result"
    },
    {
     "data": {
      "text/plain": [
       "Test accuracy : 64.580000%\t\n"
      ]
     },
     "execution_count": 12,
     "metadata": {},
     "output_type": "execute_result"
    },
    {
     "data": {
      "text/plain": [
       "Epoch #4 : Loss = 1.781929\t\n"
      ]
     },
     "execution_count": 12,
     "metadata": {},
     "output_type": "execute_result"
    },
    {
     "data": {
      "text/plain": [
       "Test accuracy : 68.500000%\t\n"
      ]
     },
     "execution_count": 12,
     "metadata": {},
     "output_type": "execute_result"
    },
    {
     "data": {
      "text/plain": [
       "Epoch #5 : Loss = 1.594902\t\n"
      ]
     },
     "execution_count": 12,
     "metadata": {},
     "output_type": "execute_result"
    },
    {
     "data": {
      "text/plain": [
       "Test accuracy : 70.710000%\t\n"
      ]
     },
     "execution_count": 12,
     "metadata": {},
     "output_type": "execute_result"
    },
    {
     "data": {
      "text/plain": [
       "Epoch #6 : Loss = 1.422571\t\n"
      ]
     },
     "execution_count": 12,
     "metadata": {},
     "output_type": "execute_result"
    },
    {
     "data": {
      "text/plain": [
       "Test accuracy : 74.340000%\t\n"
      ]
     },
     "execution_count": 12,
     "metadata": {},
     "output_type": "execute_result"
    },
    {
     "data": {
      "text/plain": [
       "Epoch #7 : Loss = 1.274314\t\n"
      ]
     },
     "execution_count": 12,
     "metadata": {},
     "output_type": "execute_result"
    },
    {
     "data": {
      "text/plain": [
       "Test accuracy : 75.650000%\t\n"
      ]
     },
     "execution_count": 12,
     "metadata": {},
     "output_type": "execute_result"
    },
    {
     "data": {
      "text/plain": [
       "Epoch #8 : Loss = 1.150045\t\n"
      ]
     },
     "execution_count": 12,
     "metadata": {},
     "output_type": "execute_result"
    },
    {
     "data": {
      "text/plain": [
       "Test accuracy : 78.260000%\t\n"
      ]
     },
     "execution_count": 12,
     "metadata": {},
     "output_type": "execute_result"
    },
    {
     "data": {
      "text/plain": [
       "Epoch #9 : Loss = 1.047305\t\n"
      ]
     },
     "execution_count": 12,
     "metadata": {},
     "output_type": "execute_result"
    },
    {
     "data": {
      "text/plain": [
       "Test accuracy : 81.480000%\t\n"
      ]
     },
     "execution_count": 12,
     "metadata": {},
     "output_type": "execute_result"
    },
    {
     "data": {
      "text/plain": [
       "Epoch #10 : Loss = 0.964245\t\n"
      ]
     },
     "execution_count": 12,
     "metadata": {},
     "output_type": "execute_result"
    },
    {
     "data": {
      "text/plain": [
       "Test accuracy : 81.810000%\t\n"
      ]
     },
     "execution_count": 12,
     "metadata": {},
     "output_type": "execute_result"
    },
    {
     "data": {
      "text/plain": [
       "Epoch #11 : Loss = 0.894907\t\n"
      ]
     },
     "execution_count": 12,
     "metadata": {},
     "output_type": "execute_result"
    },
    {
     "data": {
      "text/plain": [
       "Test accuracy : 82.930000%\t\n"
      ]
     },
     "execution_count": 12,
     "metadata": {},
     "output_type": "execute_result"
    },
    {
     "data": {
      "text/plain": [
       "Epoch #12 : Loss = 0.837978\t\n"
      ]
     },
     "execution_count": 12,
     "metadata": {},
     "output_type": "execute_result"
    },
    {
     "data": {
      "text/plain": [
       "Test accuracy : 83.340000%\t\n"
      ]
     },
     "execution_count": 12,
     "metadata": {},
     "output_type": "execute_result"
    },
    {
     "data": {
      "text/plain": [
       "Epoch #13 : Loss = 0.789844\t\n"
      ]
     },
     "execution_count": 12,
     "metadata": {},
     "output_type": "execute_result"
    },
    {
     "data": {
      "text/plain": [
       "Test accuracy : 84.700000%\t\n"
      ]
     },
     "execution_count": 12,
     "metadata": {},
     "output_type": "execute_result"
    },
    {
     "data": {
      "text/plain": [
       "Epoch #14 : Loss = 0.748695\t\n"
      ]
     },
     "execution_count": 12,
     "metadata": {},
     "output_type": "execute_result"
    },
    {
     "data": {
      "text/plain": [
       "Test accuracy : 85.380000%\t\n"
      ]
     },
     "execution_count": 12,
     "metadata": {},
     "output_type": "execute_result"
    },
    {
     "data": {
      "text/plain": [
       "Epoch #15 : Loss = 0.713131\t\n"
      ]
     },
     "execution_count": 12,
     "metadata": {},
     "output_type": "execute_result"
    },
    {
     "data": {
      "text/plain": [
       "Test accuracy : 86.830000%\t\n"
      ]
     },
     "execution_count": 12,
     "metadata": {},
     "output_type": "execute_result"
    },
    {
     "data": {
      "text/plain": [
       "Epoch #16 : Loss = 0.682871\t\n"
      ]
     },
     "execution_count": 12,
     "metadata": {},
     "output_type": "execute_result"
    },
    {
     "data": {
      "text/plain": [
       "Test accuracy : 86.970000%\t\n"
      ]
     },
     "execution_count": 12,
     "metadata": {},
     "output_type": "execute_result"
    },
    {
     "data": {
      "text/plain": [
       "Epoch #17 : Loss = 0.655593\t\n"
      ]
     },
     "execution_count": 12,
     "metadata": {},
     "output_type": "execute_result"
    },
    {
     "data": {
      "text/plain": [
       "Test accuracy : 87.060000%\t\n"
      ]
     },
     "execution_count": 12,
     "metadata": {},
     "output_type": "execute_result"
    },
    {
     "data": {
      "text/plain": [
       "Epoch #18 : Loss = 0.631198\t\n"
      ]
     },
     "execution_count": 12,
     "metadata": {},
     "output_type": "execute_result"
    },
    {
     "data": {
      "text/plain": [
       "Test accuracy : 87.410000%\t\n"
      ]
     },
     "execution_count": 12,
     "metadata": {},
     "output_type": "execute_result"
    },
    {
     "data": {
      "text/plain": [
       "Epoch #19 : Loss = 0.609298\t\n"
      ]
     },
     "execution_count": 12,
     "metadata": {},
     "output_type": "execute_result"
    },
    {
     "data": {
      "text/plain": [
       "Test accuracy : 87.380000%\t\n"
      ]
     },
     "execution_count": 12,
     "metadata": {},
     "output_type": "execute_result"
    },
    {
     "data": {
      "text/plain": [
       "Epoch #20 : Loss = 0.590598\t\n"
      ]
     },
     "execution_count": 12,
     "metadata": {},
     "output_type": "execute_result"
    },
    {
     "data": {
      "text/plain": [
       "Test accuracy : 87.770000%\t\n"
      ]
     },
     "execution_count": 12,
     "metadata": {},
     "output_type": "execute_result"
    },
    {
     "data": {
      "text/plain": [
       "Epoch #21 : Loss = 0.572657\t\n"
      ]
     },
     "execution_count": 12,
     "metadata": {},
     "output_type": "execute_result"
    },
    {
     "data": {
      "text/plain": [
       "Test accuracy : 87.590000%\t\n"
      ]
     },
     "execution_count": 12,
     "metadata": {},
     "output_type": "execute_result"
    },
    {
     "data": {
      "text/plain": [
       "Epoch #22 : Loss = 0.556287\t\n"
      ]
     },
     "execution_count": 12,
     "metadata": {},
     "output_type": "execute_result"
    },
    {
     "data": {
      "text/plain": [
       "Test accuracy : 88.210000%\t\n"
      ]
     },
     "execution_count": 12,
     "metadata": {},
     "output_type": "execute_result"
    },
    {
     "data": {
      "text/plain": [
       "Epoch #23 : Loss = 0.542398\t\n"
      ]
     },
     "execution_count": 12,
     "metadata": {},
     "output_type": "execute_result"
    },
    {
     "data": {
      "text/plain": [
       "Test accuracy : 88.490000%\t\n"
      ]
     },
     "execution_count": 12,
     "metadata": {},
     "output_type": "execute_result"
    },
    {
     "data": {
      "text/plain": [
       "Epoch #24 : Loss = 0.527591\t\n"
      ]
     },
     "execution_count": 12,
     "metadata": {},
     "output_type": "execute_result"
    },
    {
     "data": {
      "text/plain": [
       "Test accuracy : 88.030000%\t\n"
      ]
     },
     "execution_count": 12,
     "metadata": {},
     "output_type": "execute_result"
    },
    {
     "data": {
      "text/plain": [
       "Epoch #25 : Loss = 0.516059\t\n"
      ]
     },
     "execution_count": 12,
     "metadata": {},
     "output_type": "execute_result"
    },
    {
     "data": {
      "text/plain": [
       "Test accuracy : 88.310000%\t\n"
      ]
     },
     "execution_count": 12,
     "metadata": {},
     "output_type": "execute_result"
    },
    {
     "data": {
      "text/plain": [
       "Epoch #26 : Loss = 0.503007\t\n"
      ]
     },
     "execution_count": 12,
     "metadata": {},
     "output_type": "execute_result"
    },
    {
     "data": {
      "text/plain": [
       "Test accuracy : 88.480000%\t\n"
      ]
     },
     "execution_count": 12,
     "metadata": {},
     "output_type": "execute_result"
    },
    {
     "data": {
      "text/plain": [
       "Epoch #27 : Loss = 0.493574\t\n"
      ]
     },
     "execution_count": 12,
     "metadata": {},
     "output_type": "execute_result"
    },
    {
     "data": {
      "text/plain": [
       "Test accuracy : 88.450000%\t\n"
      ]
     },
     "execution_count": 12,
     "metadata": {},
     "output_type": "execute_result"
    },
    {
     "data": {
      "text/plain": [
       "Epoch #28 : Loss = 0.483961\t\n"
      ]
     },
     "execution_count": 12,
     "metadata": {},
     "output_type": "execute_result"
    },
    {
     "data": {
      "text/plain": [
       "Test accuracy : 88.950000%\t\n"
      ]
     },
     "execution_count": 12,
     "metadata": {},
     "output_type": "execute_result"
    },
    {
     "data": {
      "text/plain": [
       "Epoch #29 : Loss = 0.473794\t\n"
      ]
     },
     "execution_count": 12,
     "metadata": {},
     "output_type": "execute_result"
    },
    {
     "data": {
      "text/plain": [
       "Test accuracy : 88.990000%\t\n"
      ]
     },
     "execution_count": 12,
     "metadata": {},
     "output_type": "execute_result"
    },
    {
     "data": {
      "text/plain": [
       "Epoch #30 : Loss = 0.464411\t\n"
      ]
     },
     "execution_count": 12,
     "metadata": {},
     "output_type": "execute_result"
    },
    {
     "data": {
      "text/plain": [
       "Test accuracy : 89.150000%\t\n",
       "\n",
       "\n",
       "Training Progress Finished!\t\n",
       "Final Test acc : 89.150000%\t\n"
      ]
     },
     "execution_count": 12,
     "metadata": {},
     "output_type": "execute_result"
    }
   ],
   "source": [
    "local epochs = 30\n",
    "local last_accurcay = 0\n",
    "\n",
    "for i = 1,epochs do\n",
    "    local loss = mini_batch_upload(GPU_flag)\n",
    "    print(string.format('Epoch #%d : Loss = %4f', i, loss))\n",
    "    local accuracy = eval(testData, GPU_flag)\n",
    "    print(string.format('Test accuracy : %4f', accuracy*100)..'%')\n",
    "    last_accuracy = accuracy\n",
    "end\n",
    "\n",
    "print(\"\\n\\nTraining Progress Finished!\")\n",
    "print(string.format('Final Test acc : %4f', last_accuracy*100)..'%')"
   ]
  },
  {
   "cell_type": "code",
   "execution_count": 14,
   "metadata": {
    "collapsed": false
   },
   "outputs": [
    {
     "data": {
      "text/plain": [
       "\n"
      ]
     },
     "execution_count": 14,
     "metadata": {},
     "output_type": "execute_result"
    }
   ],
   "source": [
    "torch.save('./bestmodel.t7', model)"
   ]
  },
  {
   "cell_type": "code",
   "execution_count": 15,
   "metadata": {
    "collapsed": true
   },
   "outputs": [],
   "source": [
    "model = torch.load('./bestmodel.t7')"
   ]
  },
  {
   "cell_type": "code",
   "execution_count": 21,
   "metadata": {
    "collapsed": false
   },
   "outputs": [
    {
     "data": {
      "text/plain": [
       "Loaded Test Accuracy : 89.15%\t\n"
      ]
     },
     "execution_count": 21,
     "metadata": {},
     "output_type": "execute_result"
    }
   ],
   "source": [
    "print(\"Loaded Test Accuracy : \"..(eval(testData, GPU_flag)*100)..'%')"
   ]
  }
 ],
 "metadata": {
  "kernelspec": {
   "display_name": "iTorch",
   "language": "lua",
   "name": "itorch"
  },
  "language_info": {
   "name": "lua",
   "version": "5.1"
  }
 },
 "nbformat": 4,
 "nbformat_minor": 2
}
